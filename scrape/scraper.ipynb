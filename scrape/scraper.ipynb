{
 "cells": [
  {
   "cell_type": "code",
   "execution_count": 1,
   "metadata": {},
   "outputs": [],
   "source": [
    "import requests\n",
    "from bs4 import BeautifulSoup"
   ]
  },
  {
   "cell_type": "code",
   "execution_count": 66,
   "metadata": {},
   "outputs": [
    {
     "name": "stdout",
     "output_type": "stream",
     "text": [
      "0 NHS warns of GP disruption next week after IT outage  NHS warns of GP disruption next week after IT outage Healthcare IT systems are coming back online - but GPs face a growing appointments backlog. \n",
      "1 Israel strikes Houthis in Yemen after drone hits Tel Aviv  Israel strikes Houthis in Yemen after drone hits Tel Aviv Defence Minister Yoav Gallant says it is in response to a drone strike on Tel Aviv that killed a man. \n",
      "2 Craig Revel Horwood says Strictly complaints a 'shock'  Craig Revel Horwood says Strictly complaints a 'shock' The Strictly judge said he had found out about the allegations \"through the press\". \n",
      "3 Unfathomable errors and 'cinnamon bun' strategy: Political end-of-term report cards  Unfathomable errors and 'cinnamon bun' strategy: Political end-of-term report cards As Parliament approaches summer recess, Laura Kuenssberg reflects on how they've performed over a dizzying few months. \n",
      "4 MP criticised for behaving 'abominably' in Commons  MP criticised for behaving 'abominably' in Commons Ms Atkins has been criticised after attempting to interrupt another MP during a Commons debate. \n",
      "5 Six-time world snooker champion Reardon dies aged 91  Six-time world snooker champion Reardon dies aged 91 Ray Reardon, who dominated snooker in the 1970s, was \"a giant of the game\" and \"one of the best sportspeople ever from Wales\". \n",
      "6 'I forgive my daughters' killer - but not police officers who took photos'  'I forgive my daughters' killer - but not police officers who took photos' Mina Smallman tells BBC Radio 4's Today programme she does not feel \"hatred\" towards the man who killed Nicole Smallman and Bibaa Henry. \n",
      "7 How China swerved worst of global tech meltdown  How China swerved worst of global tech meltdown Very few organisations will buy software from the US firm, partly thanks to its criticism of Beijing. \n",
      "8 Singer Jessie J reveals OCD and ADHD diagnosis  Singer Jessie J reveals OCD and ADHD diagnosis The British singer said that having a baby had \"exposed\" the conditions more. \n",
      "9 Bella Hadid's Adidas advert dropped after Israeli criticism  Bella Hadid's Adidas advert dropped after Israeli criticism The model was chosen to promote shoes referencing the 1972 Munich Olympics, at which 11 Israeli athletes were killed. \n",
      "10 How bodies of frozen climbers were finally recovered from Everest 'death zone'  How bodies of frozen climbers were finally recovered from Everest 'death zone' A clean-up team removed four bodies from the Himalayas in this year's operation. \n",
      "11 US woman freed after 43 years in prison for murder she didn’t commit  US woman freed after 43 years in prison for murder she didn’t commit Sandra Hemme has spent almost all of her adult life in prison for a 1980 murder in St. Joseph, Missouri. \n",
      "12 'Frustrating' and 'pressurised': Life inside Strictly rehearsals  'Frustrating' and 'pressurised': Life inside Strictly rehearsals Kristina Rihanoff thinks stars will feel 'more comfortable' after the BBC introduced new welfare measures. \n",
      "13 Inside Canada's booze battle over canned cocktails  Inside Canada's booze battle over canned cocktails The ready-made drinks are at the heart of a labour dispute that saw thousands of Ontario liquor board workers walk off the job. \n",
      "14 Cyanide teacups in Room 502: Mystery of the Bangkok hotel deaths  Cyanide teacups in Room 502: Mystery of the Bangkok hotel deaths Six people were found dead in a locked hotel room - but what happened remains unclear. \n",
      "15 Disneyland workers say they live in cars and motels due to low pay  Disneyland workers say they live in cars and motels due to low pay Workers at Disneyland are considering a strike because pay at the 'Happiest place on Earth' has left many unable to meet rent.  \n",
      "16 Cross-culture love story explores secret LGBTQ+ world  Cross-culture love story explores secret LGBTQ+ world A cross-cultural love story is shining a light on a secretive and glamorous Asian world. \n",
      "17 Who could replace Biden as Democratic nominee?  Who could replace Biden as Democratic nominee? Several rising stars in the party could enter the 2024 fray if Joe Biden steps aside. \n",
      "18 Why is the Bangladeshi government facing so much anger?  Why is the Bangladeshi government facing so much anger? More than 100 people are dead in spreading unrest after a policy on government jobs sparked mass protests. \n",
      "19 Teacher and NHS pay rises may cost extra £3bn - IFS  Teacher and NHS pay rises may cost extra £3bn - IFS A report by the Times says the government has been recommended a 5.5% pay rise in schools and the NHS. \n",
      "20 Biden vows to run as more Democrats ask him to drop out  Biden vows to run as more Democrats ask him to drop out President Joe Biden's campaign reiterated on Friday that the president is staying in the race.    \n",
      "21 China bridge collapse kills at least 11 after floods  China bridge collapse kills at least 11 after floods The partial collapse during torrential rains Shangluo city has killed at least 11 with 30 people still missing. \n",
      "22 Ukrainian nationalist ex-MP shot dead in Lviv street  Ukrainian nationalist ex-MP shot dead in Lviv street Iryna Farion caused controversy by suggesting that “true patriots” of Ukraine should not speak Russian in any situation. \n",
      "23 'That has knocked off five slates!' - Tiles land in crowd after Joseph six  'That has knocked off five slates!' - Tiles land in crowd after Joseph six Watch as Shamar Joseph's huge six causes roof slates to fall into the crowd on day three of the second Test match at Trent Bridge.  \n",
      "24 Escaped Wormwood Scrubs prisoner arrested  Escaped Wormwood Scrubs prisoner arrested Graham Gomm, who is on remand for burglary, escaped during a hospital visit on Thursday. \n",
      "25 Donald Trump’s supporters saw two sides of him. Which one might govern?  Donald Trump’s supporters saw two sides of him. Which one might govern?  Looking back at the Republican National Convention offers some clues, says Anthony Zurcher. \n",
      "26 Bereaved families force law changes - why did it take so long?  Bereaved families force law changes - why did it take so long? Bills in the King's Speech took years of struggle by campaigners. Is that how the system should work? \n",
      "27 Fourteen measures from the King’s Speech analysed by BBC experts  Fourteen measures from the King’s Speech analysed by BBC experts BBC correspondents examine some of the key policies announced by Keir Starmer’s new government. \n",
      "28 She's made her opening gambit. What's the chancellor's long game?  She's made her opening gambit. What's the chancellor's long game? Once a junior chess champion, now Rachel Reeves runs the UK economy. Faisal Islam looks at her strategy. \n",
      "29 Download now  Download now Top stories, breaking news, live reporting, and follow news topics that match your interests \n",
      "30 Newscast  Newscast Plus, Laura’s political end of term reports. \n",
      "31 Donald Trump's convention speech: ‘I had God on my side’  Donald Trump's convention speech: ‘I had God on my side’ The former president described the moment he was shot. \n",
      "32 Cricket: Today at the Test  Cricket: Today at the Test Day three highlights from the second Test between England and the West Indies. \n",
      "33 Root and Brook build England lead over West Indies  Root and Brook build England lead over West Indies England recover from a chaotic morning to build a healthy lead over West Indies on the third day of the second Test at Trent Bridge. \n",
      "34 Norris on Hungary pole in McLaren front-row lockout  Norris on Hungary pole in McLaren front-row lockout Lando Norris leads Oscar Piastri to a McLaren one-two ahead of Max Verstappen in an action-packed qualifying session at the Hungarian Grand Prix. \n",
      "35 Hudson-Smith & Hodgkinson shine at Diamond League  Hudson-Smith & Hodgkinson shine at Diamond League Matthew Hudson-Smith smashes his European 400m record and Keely Hodgkinson sets a national 800m record as Great Britain's Olympic gold medal hopes produce statement performances in London. \n",
      "36 Lowry loses solo lead with Postage Stamp double bogey  Lowry loses solo lead with Postage Stamp double bogey Watch the moment Shane Lowry gets a double bogey on the eighth hole to lose his solo lead on day three of The Open at Royal Troon.    \n",
      "37 Pogacar dominates to win his fifth stage of Tour  Pogacar dominates to win his fifth stage of Tour Tadej Pogacar continues his fairytale Tour de France with a fifth stage win to further extend his dominant lead. \n",
      "38 MP criticised for behaving 'abominably' in Commons  MP criticised for behaving 'abominably' in Commons Ms Atkins has been criticised after attempting to interrupt another MP during a Commons debate. \n",
      "39 Man charged with trying to prevent lawful burial  Man charged with trying to prevent lawful burial The charge is in connection with the death of Noel O'Sullivan, who was found in his Derry home. \n",
      "40 Glasgow celebrates Pride after Palestine protest row  Glasgow celebrates Pride after Palestine protest row Ahead of the event concerns were raised over corporate sponsors of Pride in Glasgow and their potential links to Israel. \n",
      "41 Wales to have new first minister in September  Wales to have new first minister in September Welsh Labour announces a timetable for a leadership election after Vaughan Gething resigned. \n"
     ]
    }
   ],
   "source": [
    "stories = ['null']\n",
    "\n",
    "def get_soup(url):\n",
    "\tresponse = requests.get(url)\n",
    "\tsoup = BeautifulSoup(response.text, \"xml\")\t\n",
    "\treturn soup\n",
    "\n",
    "\n",
    "def get_headlines():\n",
    "\tscrape_url = \"http://feeds.bbci.co.uk/news/rss.xml\"\n",
    "\tcurrent_item = 0\n",
    "\tsoup = get_soup(scrape_url)\n",
    "\tarticles = soup.find_all('item')\n",
    "\tres = []\n",
    "\twhile current_item < len(articles):\n",
    "\t\tarticle_headline = articles[current_item].title.text\n",
    "\t\tarticle_description = [\"\".join(article_part + \" \" for article_part in articles[current_item].text.split(\"\\n\")[:-5])][0] \n",
    "\t\tres.append(f\"{article_headline} {article_description}\")\n",
    "\t\tcurrent_item += 1\n",
    "\treturn res\n",
    "\n",
    "for i,x in enumerate(get_headlines()):\n",
    "\tprint(i,x)"
   ]
  },
  {
   "cell_type": "code",
   "execution_count": 56,
   "metadata": {},
   "outputs": [],
   "source": [
    "# Use a pipeline as a high-level helper\n",
    "from transformers import pipeline\n",
    "\n",
    "pipe = pipeline(\"sentiment-analysis\", model=\"Lukiccc/my_awesome_model\")"
   ]
  },
  {
   "cell_type": "code",
   "execution_count": 64,
   "metadata": {},
   "outputs": [
    {
     "data": {
      "text/plain": [
       "[{'label': 'science', 'score': 0.9671210646629333},\n",
       " {'label': 'world', 'score': 0.9993128776550293},\n",
       " {'label': 'world', 'score': 0.9481881260871887},\n",
       " {'label': 'world', 'score': 0.6333766579627991},\n",
       " {'label': 'world', 'score': 0.9924392700195312},\n",
       " {'label': 'sport', 'score': 0.9783318042755127},\n",
       " {'label': 'world', 'score': 0.9945226907730103},\n",
       " {'label': 'science', 'score': 0.9142991900444031},\n",
       " {'label': 'world', 'score': 0.9812682271003723},\n",
       " {'label': 'sport', 'score': 0.8567730784416199},\n",
       " {'label': 'world', 'score': 0.659713089466095},\n",
       " {'label': 'world', 'score': 0.9482873678207397},\n",
       " {'label': 'world', 'score': 0.8495610356330872},\n",
       " {'label': 'business', 'score': 0.8433355093002319},\n",
       " {'label': 'world', 'score': 0.9418154358863831},\n",
       " {'label': 'business', 'score': 0.6124616265296936},\n",
       " {'label': 'world', 'score': 0.8537023067474365},\n",
       " {'label': 'world', 'score': 0.7662730813026428},\n",
       " {'label': 'world', 'score': 0.9623982906341553},\n",
       " {'label': 'business', 'score': 0.6094335913658142},\n",
       " {'label': 'world', 'score': 0.9826410412788391},\n",
       " {'label': 'world', 'score': 0.9942564368247986},\n",
       " {'label': 'world', 'score': 0.9988382458686829},\n",
       " {'label': 'sport', 'score': 0.9555302858352661},\n",
       " {'label': 'science', 'score': 0.5811590552330017},\n",
       " {'label': 'world', 'score': 0.8003554344177246},\n",
       " {'label': 'world', 'score': 0.5386183261871338},\n",
       " {'label': 'world', 'score': 0.9515001773834229},\n",
       " {'label': 'science', 'score': 0.7092507481575012},\n",
       " {'label': 'science', 'score': 0.9813736081123352},\n",
       " {'label': 'science', 'score': 0.6878436803817749},\n",
       " {'label': 'world', 'score': 0.9850134253501892},\n",
       " {'label': 'sport', 'score': 0.9988194108009338},\n",
       " {'label': 'sport', 'score': 0.9978524446487427},\n",
       " {'label': 'sport', 'score': 0.9992383718490601},\n",
       " {'label': 'sport', 'score': 0.9968560934066772},\n",
       " {'label': 'sport', 'score': 0.996355414390564},\n",
       " {'label': 'world', 'score': 0.9924392700195312},\n",
       " {'label': 'world', 'score': 0.9909996390342712},\n",
       " {'label': 'world', 'score': 0.9607446193695068},\n",
       " {'label': 'world', 'score': 0.9968337416648865}]"
      ]
     },
     "execution_count": 64,
     "metadata": {},
     "output_type": "execute_result"
    }
   ],
   "source": [
    "\n",
    "text = \"so bad that it is good\"\n",
    "\n",
    "pipe(get_headlines())"
   ]
  },
  {
   "cell_type": "code",
   "execution_count": 50,
   "metadata": {},
   "outputs": [],
   "source": [
    "# Load model directly\n",
    "from transformers import AutoTokenizer, AutoModelForSequenceClassification\n",
    "\n",
    "tokenizer = AutoTokenizer.from_pretrained(\"Lukiccc/my_awesome_model\")\n",
    "model = AutoModelForSequenceClassification.from_pretrained(\"Lukiccc/my_awesome_model\")"
   ]
  }
 ],
 "metadata": {
  "kernelspec": {
   "display_name": "base",
   "language": "python",
   "name": "python3"
  },
  "language_info": {
   "codemirror_mode": {
    "name": "ipython",
    "version": 3
   },
   "file_extension": ".py",
   "mimetype": "text/x-python",
   "name": "python",
   "nbconvert_exporter": "python",
   "pygments_lexer": "ipython3",
   "version": "3.11.5"
  }
 },
 "nbformat": 4,
 "nbformat_minor": 2
}
