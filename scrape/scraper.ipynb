{
 "cells": [
  {
   "cell_type": "code",
   "execution_count": 1,
   "metadata": {},
   "outputs": [],
   "source": [
    "import requests\n",
    "from bs4 import BeautifulSoup"
   ]
  },
  {
   "cell_type": "code",
   "execution_count": 34,
   "metadata": {},
   "outputs": [
    {
     "name": "stdout",
     "output_type": "stream",
     "text": [
      "[0] Crowdstrike and Microsoft: What we know so far  Crowdstrike and Microsoft: What we know so far A mass IT outage has caused chaos around the world, with major airlines among the victims. \n",
      "[1] Watch: Huge queues and delays at airports worldwide  Watch: Huge queues and delays at airports worldwide Many flights have been grounded, with huge queues and delays at airports all over the world. \n",
      "[2] GPs, airports and banks in UK hit by IT outage  GPs, airports and banks in UK hit by IT outage Some GP practices are struggling to access their records systems, which include online bookings. \n",
      "[3] What are my rights if my flight is cancelled or delayed?  What are my rights if my flight is cancelled or delayed? If you face disruption because flights are cancelled or delayed, then what can you do? \n",
      "[4] UN top court says Israeli occupation of Palestinian territories is illegal  UN top court says Israeli occupation of Palestinian territories is illegal It also says Israel should end all settlement activity there, in the landmark case. \n",
      "[5] Postmasters had fingers in the till, minister says she was told  Postmasters had fingers in the till, minister says she was told Jo Swinson claims Paula Vennells told her \"clearly some of them are actually just at it.\" \n",
      "[6] He's staying in the race, Biden's campaign team insists  He's staying in the race, Biden's campaign team insists President Joe Biden's campaign reiterated on Friday that the president is staying in the race.    \n",
      "[7] Man jailed for rape he didn't commit says other prisoners could be freed by case review  Man jailed for rape he didn't commit says other prisoners could be freed by case review Andrew Malkinson says he knows at least six people in jail who could be exonerated in a case review.  \n",
      "[8] Zelensky urges PM to help lift Ukraine weapon limits  Zelensky urges PM to help lift Ukraine weapon limits The Ukrainian president is the first foreign leader to address the cabinet in person since 1997.  \n",
      "[9] UK's hottest day of the year so far as temperatures hit 31.9C  UK's hottest day of the year so far as temperatures hit 31.9C St James's Park in central London reaches 31.9C on Friday as the hot spell peaks.  \n",
      "[10] Japanese gymnast set to miss Olympics for smoking  Japanese gymnast set to miss Olympics for smoking Shoko Miyata has been sent home before the Paris Olympics for smoking, in violation of Japan Gymnastics Association rules. \n",
      "[11] 'Win a major tournament' - but what else is on England manager's official job spec?  'Win a major tournament' - but what else is on England manager's official job spec? Fancy yourself as the next England manager? The FA has revealed what it expects from the new leader of the Three Lions. \n",
      "[12] Russia jails US journalist Gershkovich for 16 years  Russia jails US journalist Gershkovich for 16 years His employer, The Wall Street Journal, has called the allegations \"shameful\" and a \"sham\". \n",
      "[13] Leave cliff diving to professionals, warns police  Leave cliff diving to professionals, warns police The warning comes as Ballycastle is set to host the 2024 Red Bull Cliff diving series this week. \n",
      "[14] Chelsea star Enzo Fernandez guilty of driving offence  Chelsea star Enzo Fernandez guilty of driving offence The Argentina player failed to identify himself to police after a traffic violation last year. \n",
      "[15] Five takeaways from Trump's presidential nomination speech  Five takeaways from Trump's presidential nomination speech The Republican gave a first-hand account of his shooting and projected a message of unity - mostly. \n",
      "[16] Crime, immigration and tax cuts - Trump's speech fact-checked  Crime, immigration and tax cuts - Trump's speech fact-checked The former president's speech contained plenty of claims which BBC Verify has been checking.    \n",
      "[17] Trump recounts shooting in marathon Republican convention speech  Trump recounts shooting in marathon Republican convention speech Donald Trump told supporters he was \"not supposed to be here,\" reflecting on a recent attempt on his life. \n",
      "[18] 90 minutes of Trump - and other moments - in 90 seconds  90 minutes of Trump - and other moments - in 90 seconds Donald Trump spoke for an hour and a half at the Republican National Convention. \n",
      "[19] A rare event - Melania Trump attends husband's speech  A rare event - Melania Trump attends husband's speech Donald Trump's wife rarely appears in public, but she was welcomed by the crowd five days after her husband was targeted by a gunman. \n",
      "[20] Drag queens feel the pinch of rising costs  Drag queens feel the pinch of rising costs Before they can save themselves from elimination, queens say they need to save thousands of pounds. \n",
      "[21] Burnout and back again - Adam Peaty's road to Paris Olympics  Burnout and back again - Adam Peaty's road to Paris Olympics Adam Peaty admits he wanted to quit swimming after his life came \"crashing down\" but the Briton is back aiming for a historic third Olympic gold. \n",
      "[22] UV index: Levels explained and how to protect yourself  UV index: Levels explained and how to protect yourself How to be sun savvy and get the right level of protection from UV rays. \n",
      "[23] How the UK planned for the wrong pandemic  How the UK planned for the wrong pandemic Over-confidence, wasted opportunities and muddled-thinking left UK sleep-walking into Covid.  \n",
      "[24] What will future aerial dogfights look like?  What will future aerial dogfights look like? AI with dogfighting ability is being developed by the UK and US air forces. \n",
      "[25] Jade Thirlwall is 'ready to give pop girlie drama'  Jade Thirlwall is 'ready to give pop girlie drama' The star releases her debut solo single, Angel of My Dreams, after 10 years performing in Little Mix. \n",
      "[26] Weekly quiz: Which film was Shannen Doherty’s breakthrough?  Weekly quiz: Which film was Shannen Doherty’s breakthrough? Test how closely you've been paying attention to what's been going on over the past seven days. \n",
      "[27] Surprise mobile mid-contract price rises banned  Surprise mobile mid-contract price rises banned Regulator Ofcom says the new rules will come into force in January with price rises made clear before sale. \n",
      "[28] Term-time holiday fines here to stay - education secretary  Term-time holiday fines here to stay - education secretary In her first interview, the education secretary says parents should keep their children in school. \n",
      "[29] Vietnamese leader Nguyen Phu Trong dies at 80  Vietnamese leader Nguyen Phu Trong dies at 80 One of Vietnam's most powerful leaders, he oversaw the economy's supercharged growth. \n",
      "[30] UK to resume funding to UN Gaza aid agency  UK to resume funding to UN Gaza aid agency The UK was among nations to halt funding after Israel alleged UNWRA staff took part in the Hamas attack. \n",
      "[31] Ghosts of Olympics past leave their mark in Paris  Ghosts of Olympics past leave their mark in Paris More than 100 years on, traces of the 1900 and 1924 Olympics remain across the French capital.  \n",
      "[32] Israeli man killed in drone attack on Tel Aviv  Israeli man killed in drone attack on Tel Aviv It is the first attack of its kind on the Israeli city, which Yemeni rebels say they carried out. \n",
      "[33] UK government debt highest since 1962  UK government debt highest since 1962 Debt has exceeded the highs reached during the coronavirus pandemic for the first time. \n",
      "[34] Bereaved families force law changes - why did it take so long?  Bereaved families force law changes - why did it take so long? Bills in the King's Speech took years of struggle by campaigners. Is that how the system should work? \n",
      "[35] Fourteen measures from the King’s Speech analysed by BBC experts  Fourteen measures from the King’s Speech analysed by BBC experts BBC correspondents examine some of the key policies announced by Keir Starmer’s new government. \n",
      "[36] She's made her opening gambit. What's the chancellor's long game?  She's made her opening gambit. What's the chancellor's long game? Once a junior chess champion, now Rachel Reeves runs the UK economy. Faisal Islam looks at her strategy. \n",
      "[37] Which voters should the Tories go after now?  Which voters should the Tories go after now? The Conservatives are debating their future - but the path back to victory is not straightforward. \n",
      "[38] Download now  Download now Top stories, breaking news, live reporting, and follow news topics that match your interests \n",
      "[39] Newscast x Americast Q&A  Newscast x Americast Q&A The Americast team answer your questions on the US election. \n",
      "[40] Donald Trump's convention speech: ‘I had God on my side’  Donald Trump's convention speech: ‘I had God on my side’ The former president described the moment he was shot. \n",
      "[41] Lowry sets halfway target at Royal Troon Open  Lowry sets halfway target at Royal Troon Open Ireland's Shane Lowry sets the clubhouse target at seven under in round two of The Open at Royal Troon. \n",
      "[42] Howe 'committed' to Newcastle amid England job links  Howe 'committed' to Newcastle amid England job links Newcastle United boss Eddie Howe says he is \"committed\" to the club as long as he is \"happy and feels supported\", after being linked with replacing Gareth Southgate as England manager. \n",
      "[43] 'Terrific round of golf' - Lowry overcomes trouble to lead day two  'Terrific round of golf' - Lowry overcomes trouble to lead day two Watch the best of Shane Lowry's round as he overcomes trouble on the eleventh hole and finishes round two on two-under 69 to move clear at the top of the leaderboard at The Open at Royal Troon. \n",
      "[44] Norris tops Hungarian GP practice as Leclerc crashes  Norris tops Hungarian GP practice as Leclerc crashes Ferrari’s Carlos Sainz leads Red Bull’s Max Verstappen in first practice at the Hungarian Grand Prix. \n",
      "[45] Leeds residents condemn 'out of control' disorder  Leeds residents condemn 'out of control' disorder The BBC speaks to residents in Harehills after violence broke out in the Leeds suburb. \n",
      "[46] 'About 60%' of NI GPs impacted by global IT chaos  'About 60%' of NI GPs impacted by global IT chaos Some services such as booking patients into operating theatres and updating records are affected. \n",
      "[47] Edinburgh Airport hit by worldwide IT outage  Edinburgh Airport hit by worldwide IT outage Passengers have been told not to travel to the airport while teams are managing \"as best they can\". \n",
      "[48] GPs turn patients away as global IT issues hit Wales  GPs turn patients away as global IT issues hit Wales Some rail services are disrupted and patients may have issues getting prescriptions. \n"
     ]
    }
   ],
   "source": [
    "stories = ['null']\n",
    "\n",
    "def get_soup(url):\n",
    "\tresponse = requests.get(url)\n",
    "\tsoup = BeautifulSoup(response.text, \"xml\")\t\n",
    "\treturn soup\n",
    "\n",
    "\n",
    "def get_headlines(item_start_id, links_to_fetch):\n",
    "\tscrape_url = \"http://feeds.bbci.co.uk/news/rss.xml\"\n",
    "\tcurrent_item = item_start_id\n",
    "\t#request and parse html\n",
    "\tsoup = get_soup(scrape_url)\n",
    "\t#isolate the rest of the headlines (articles)\n",
    "\tarticles = soup.find_all('item')\n",
    "\t#extract headlines and url from links on main page & print\n",
    "\tfor item in range(links_to_fetch):\n",
    "\t\tarticleurl = articles[item].guid.text\n",
    "\t\tarticleheadline = articles[item].title.text\n",
    "\t\tarticle_description = [\"\".join(article_part + \" \" for article_part in articles[item].text.split(\"\\n\")[:-5])][0] \n",
    "\t\t#print(article_description[5])\n",
    "\n",
    "\t\tstories.append(articleurl)\n",
    "\t\tprint(f\"[{current_item}] {articleheadline} {article_description}\")\n",
    "\t\tcurrent_item+=1\n",
    "\t\t\n",
    "get_headlines(0, 49)"
   ]
  }
 ],
 "metadata": {
  "kernelspec": {
   "display_name": "base",
   "language": "python",
   "name": "python3"
  },
  "language_info": {
   "codemirror_mode": {
    "name": "ipython",
    "version": 3
   },
   "file_extension": ".py",
   "mimetype": "text/x-python",
   "name": "python",
   "nbconvert_exporter": "python",
   "pygments_lexer": "ipython3",
   "version": "3.11.5"
  }
 },
 "nbformat": 4,
 "nbformat_minor": 2
}
